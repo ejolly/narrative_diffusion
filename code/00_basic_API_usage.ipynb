{
 "cells": [
  {
   "cell_type": "markdown",
   "metadata": {},
   "source": [
    "# Resources\n",
    "- [web-api](https://developer.spotify.com/documentation/web-api/)\n",
    "- [Ben's API explainer](https://docs.google.com/document/d/18hQnCt2kiFXaa0fQ24pkCcVChDtCmhR7m7XpTqNSLsI/edit)\n",
    "- [spotipy API](https://spotipy.readthedocs.io/en/master/#api-reference)\n",
    "- [genius API](https://lyricsgenius.readthedocs.io/en/master/reference/api.html#api)"
   ]
  },
  {
   "cell_type": "markdown",
   "metadata": {},
   "source": [
    "# Setup"
   ]
  },
  {
   "cell_type": "code",
   "execution_count": 17,
   "metadata": {},
   "outputs": [
    {
     "data": {
      "text/plain": [
       "True"
      ]
     },
     "execution_count": 17,
     "metadata": {},
     "output_type": "execute_result"
    }
   ],
   "source": [
    "from dotenv import load_dotenv\n",
    "import spotipy\n",
    "from spotipy.oauth2 import SpotifyClientCredentials, SpotifyOAuth\n",
    "from lyricsgenius import Genius\n",
    "import os\n",
    "import numpy as np\n",
    "import pandas as pd\n",
    "from pathlib import Path\n",
    "from joblib import dump, load\n",
    "\n",
    "# Change base_dir as needed\n",
    "base_dir = Path(\"/Users/Esh/Documents/conferences/csss2022/narrative_diffusion/\")\n",
    "analysis_dir = base_dir / 'analysis'\n",
    "load_dotenv()\n"
   ]
  },
  {
   "cell_type": "code",
   "execution_count": 3,
   "metadata": {},
   "outputs": [],
   "source": [
    "# Client credentials flow for public data\n",
    "sp_client = spotipy.Spotify(\n",
    "    auth_manager=SpotifyClientCredentials(\n",
    "        client_id=os.environ[\"SPOTIFY_CLIENT_ID\"],\n",
    "        client_secret=os.environ[\"SPOTIFY_CLIENT_SECRET\"],\n",
    "    )\n",
    ")\n",
    "\n",
    "# Auth Code flow, for user data\n",
    "sp_auth = spotipy.Spotify(\n",
    "    auth_manager=SpotifyOAuth(\n",
    "        client_id=os.environ[\"SPOTIFY_CLIENT_ID\"],\n",
    "        client_secret=os.environ[\"SPOTIFY_CLIENT_SECRET\"],\n",
    "        redirect_uri=os.environ[\"REDIRECT_URI\"],\n",
    "        scope=os.environ[\"SPOTIFY_SCOPE\"],\n",
    "    )\n",
    ")\n",
    "\n",
    "# Genius\n",
    "genius = Genius(os.environ['GENIUS_ACCESS_TOKEN'])"
   ]
  },
  {
   "cell_type": "markdown",
   "metadata": {},
   "source": [
    "# Example retrieving public data using spotify API"
   ]
  },
  {
   "cell_type": "code",
   "execution_count": 4,
   "metadata": {},
   "outputs": [
    {
     "data": {
      "text/plain": [
       "'Pride Classics'"
      ]
     },
     "execution_count": 4,
     "metadata": {},
     "output_type": "execute_result"
    }
   ],
   "source": [
    "playlist_id = \"37i9dQZF1DX59HcpGmPXYR\"\n",
    "playlist = sp_client.playlist(playlist_id=playlist_id)\n",
    "playlist['name']\n"
   ]
  },
  {
   "cell_type": "markdown",
   "metadata": {},
   "source": [
    "# Example retrieving user data using spotify API"
   ]
  },
  {
   "cell_type": "code",
   "execution_count": 13,
   "metadata": {},
   "outputs": [],
   "source": [
    "# Get top-artists and save it to a file\n",
    "top_artists_path = analysis_dir / 'my_top_artists.joblib'\n",
    "if top_artists_path.exists():\n",
    "    top_artists = load(top_artists_path)\n",
    "else:\n",
    "    top_artists=sp_auth.current_user_top_artists(limit=50)\n",
    "    dump(top_artists, top_artists_path)"
   ]
  },
  {
   "cell_type": "code",
   "execution_count": 20,
   "metadata": {},
   "outputs": [
    {
     "data": {
      "text/html": [
       "<div>\n",
       "<style scoped>\n",
       "    .dataframe tbody tr th:only-of-type {\n",
       "        vertical-align: middle;\n",
       "    }\n",
       "\n",
       "    .dataframe tbody tr th {\n",
       "        vertical-align: top;\n",
       "    }\n",
       "\n",
       "    .dataframe thead th {\n",
       "        text-align: right;\n",
       "    }\n",
       "</style>\n",
       "<table border=\"1\" class=\"dataframe\">\n",
       "  <thead>\n",
       "    <tr style=\"text-align: right;\">\n",
       "      <th></th>\n",
       "      <th>external_urls</th>\n",
       "      <th>followers</th>\n",
       "      <th>genres</th>\n",
       "      <th>href</th>\n",
       "      <th>id</th>\n",
       "      <th>images</th>\n",
       "      <th>name</th>\n",
       "      <th>popularity</th>\n",
       "      <th>type</th>\n",
       "      <th>uri</th>\n",
       "    </tr>\n",
       "  </thead>\n",
       "  <tbody>\n",
       "    <tr>\n",
       "      <th>0</th>\n",
       "      <td>{'spotify': 'https://open.spotify.com/artist/7...</td>\n",
       "      <td>{'href': None, 'total': 11200495}</td>\n",
       "      <td>[lgbtq+ hip hop, pop]</td>\n",
       "      <td>https://api.spotify.com/v1/artists/7jVv8c5Fj3E...</td>\n",
       "      <td>7jVv8c5Fj3E9VhNjxT4snq</td>\n",
       "      <td>[{'height': 640, 'url': 'https://i.scdn.co/ima...</td>\n",
       "      <td>Lil Nas X</td>\n",
       "      <td>82</td>\n",
       "      <td>artist</td>\n",
       "      <td>spotify:artist:7jVv8c5Fj3E9VhNjxT4snq</td>\n",
       "    </tr>\n",
       "    <tr>\n",
       "      <th>1</th>\n",
       "      <td>{'spotify': 'https://open.spotify.com/artist/0...</td>\n",
       "      <td>{'href': None, 'total': 1748542}</td>\n",
       "      <td>[chicago rap, conscious hip hop, gangster rap,...</td>\n",
       "      <td>https://api.spotify.com/v1/artists/01QTIT5P1pF...</td>\n",
       "      <td>01QTIT5P1pFP3QnnFSdsJf</td>\n",
       "      <td>[{'height': 640, 'url': 'https://i.scdn.co/ima...</td>\n",
       "      <td>Lupe Fiasco</td>\n",
       "      <td>65</td>\n",
       "      <td>artist</td>\n",
       "      <td>spotify:artist:01QTIT5P1pFP3QnnFSdsJf</td>\n",
       "    </tr>\n",
       "    <tr>\n",
       "      <th>2</th>\n",
       "      <td>{'spotify': 'https://open.spotify.com/artist/5...</td>\n",
       "      <td>{'href': None, 'total': 17534836}</td>\n",
       "      <td>[chicago rap, rap]</td>\n",
       "      <td>https://api.spotify.com/v1/artists/5K4W6rqBFWD...</td>\n",
       "      <td>5K4W6rqBFWDnAN6FQUkS6x</td>\n",
       "      <td>[{'height': 640, 'url': 'https://i.scdn.co/ima...</td>\n",
       "      <td>Kanye West</td>\n",
       "      <td>90</td>\n",
       "      <td>artist</td>\n",
       "      <td>spotify:artist:5K4W6rqBFWDnAN6FQUkS6x</td>\n",
       "    </tr>\n",
       "    <tr>\n",
       "      <th>3</th>\n",
       "      <td>{'spotify': 'https://open.spotify.com/artist/4...</td>\n",
       "      <td>{'href': None, 'total': 981348}</td>\n",
       "      <td>[escape room, hip hop, political hip hop]</td>\n",
       "      <td>https://api.spotify.com/v1/artists/4RnBFZRiMLR...</td>\n",
       "      <td>4RnBFZRiMLRyZy0AzzTg2C</td>\n",
       "      <td>[{'height': 640, 'url': 'https://i.scdn.co/ima...</td>\n",
       "      <td>Run The Jewels</td>\n",
       "      <td>60</td>\n",
       "      <td>artist</td>\n",
       "      <td>spotify:artist:4RnBFZRiMLRyZy0AzzTg2C</td>\n",
       "    </tr>\n",
       "    <tr>\n",
       "      <th>4</th>\n",
       "      <td>{'spotify': 'https://open.spotify.com/artist/2...</td>\n",
       "      <td>{'href': None, 'total': 2876685}</td>\n",
       "      <td>[conscious hip hop, east coast hip hop, gangst...</td>\n",
       "      <td>https://api.spotify.com/v1/artists/20qISvAhX20...</td>\n",
       "      <td>20qISvAhX20dpIbOOzGK3q</td>\n",
       "      <td>[{'height': 640, 'url': 'https://i.scdn.co/ima...</td>\n",
       "      <td>Nas</td>\n",
       "      <td>72</td>\n",
       "      <td>artist</td>\n",
       "      <td>spotify:artist:20qISvAhX20dpIbOOzGK3q</td>\n",
       "    </tr>\n",
       "  </tbody>\n",
       "</table>\n",
       "</div>"
      ],
      "text/plain": [
       "                                       external_urls  \\\n",
       "0  {'spotify': 'https://open.spotify.com/artist/7...   \n",
       "1  {'spotify': 'https://open.spotify.com/artist/0...   \n",
       "2  {'spotify': 'https://open.spotify.com/artist/5...   \n",
       "3  {'spotify': 'https://open.spotify.com/artist/4...   \n",
       "4  {'spotify': 'https://open.spotify.com/artist/2...   \n",
       "\n",
       "                           followers  \\\n",
       "0  {'href': None, 'total': 11200495}   \n",
       "1   {'href': None, 'total': 1748542}   \n",
       "2  {'href': None, 'total': 17534836}   \n",
       "3    {'href': None, 'total': 981348}   \n",
       "4   {'href': None, 'total': 2876685}   \n",
       "\n",
       "                                              genres  \\\n",
       "0                              [lgbtq+ hip hop, pop]   \n",
       "1  [chicago rap, conscious hip hop, gangster rap,...   \n",
       "2                                 [chicago rap, rap]   \n",
       "3          [escape room, hip hop, political hip hop]   \n",
       "4  [conscious hip hop, east coast hip hop, gangst...   \n",
       "\n",
       "                                                href                      id  \\\n",
       "0  https://api.spotify.com/v1/artists/7jVv8c5Fj3E...  7jVv8c5Fj3E9VhNjxT4snq   \n",
       "1  https://api.spotify.com/v1/artists/01QTIT5P1pF...  01QTIT5P1pFP3QnnFSdsJf   \n",
       "2  https://api.spotify.com/v1/artists/5K4W6rqBFWD...  5K4W6rqBFWDnAN6FQUkS6x   \n",
       "3  https://api.spotify.com/v1/artists/4RnBFZRiMLR...  4RnBFZRiMLRyZy0AzzTg2C   \n",
       "4  https://api.spotify.com/v1/artists/20qISvAhX20...  20qISvAhX20dpIbOOzGK3q   \n",
       "\n",
       "                                              images            name  \\\n",
       "0  [{'height': 640, 'url': 'https://i.scdn.co/ima...       Lil Nas X   \n",
       "1  [{'height': 640, 'url': 'https://i.scdn.co/ima...     Lupe Fiasco   \n",
       "2  [{'height': 640, 'url': 'https://i.scdn.co/ima...      Kanye West   \n",
       "3  [{'height': 640, 'url': 'https://i.scdn.co/ima...  Run The Jewels   \n",
       "4  [{'height': 640, 'url': 'https://i.scdn.co/ima...             Nas   \n",
       "\n",
       "   popularity    type                                    uri  \n",
       "0          82  artist  spotify:artist:7jVv8c5Fj3E9VhNjxT4snq  \n",
       "1          65  artist  spotify:artist:01QTIT5P1pFP3QnnFSdsJf  \n",
       "2          90  artist  spotify:artist:5K4W6rqBFWDnAN6FQUkS6x  \n",
       "3          60  artist  spotify:artist:4RnBFZRiMLRyZy0AzzTg2C  \n",
       "4          72  artist  spotify:artist:20qISvAhX20dpIbOOzGK3q  "
      ]
     },
     "execution_count": 20,
     "metadata": {},
     "output_type": "execute_result"
    }
   ],
   "source": [
    "artists_df = pd.DataFrame(top_artists['items'])\n",
    "artists_df.head()"
   ]
  },
  {
   "cell_type": "markdown",
   "metadata": {},
   "source": [
    "# Example getting lyrics using genius API"
   ]
  },
  {
   "cell_type": "code",
   "execution_count": 5,
   "metadata": {},
   "outputs": [
    {
     "name": "stdout",
     "output_type": "stream",
     "text": [
      "Searching for songs by Kanye West...\n",
      "\n",
      "Song 1: \"03 Electic Relaxation\"\n",
      "Song 2: \"12,000 Acres\"\n",
      "\"124th\" is not valid. Skipping.\n",
      "Song 3: \"18 Years\"\n",
      "\n",
      "Reached user-specified song limit (3).\n",
      "Done. Found 3 songs.\n"
     ]
    },
    {
     "data": {
      "text/plain": [
       "[Song(id, artist, ...), Song(id, artist, ...), Song(id, artist, ...)]"
      ]
     },
     "execution_count": 5,
     "metadata": {},
     "output_type": "execute_result"
    }
   ],
   "source": [
    "artist = genius.search_artist('Kanye West', max_songs=3, sort='title')"
   ]
  },
  {
   "cell_type": "code",
   "execution_count": 11,
   "metadata": {},
   "outputs": [
    {
     "name": "stdout",
     "output_type": "stream",
     "text": [
      "Wrote Lyrics_KanyeWest.json.\n"
     ]
    }
   ],
   "source": [
    "# Save them to analyis folder\n",
    "artist.save_lyrics()\n",
    "os.rename(\"Lyrics_KanyeWest.json\", str(analysis_dir / \"Lyrics_KanyeWest.json\"))\n"
   ]
  },
  {
   "cell_type": "code",
   "execution_count": null,
   "metadata": {},
   "outputs": [],
   "source": []
  }
 ],
 "metadata": {
  "kernelspec": {
   "display_name": "Python 3.9.12 ('narratives')",
   "language": "python",
   "name": "python3"
  },
  "language_info": {
   "codemirror_mode": {
    "name": "ipython",
    "version": 3
   },
   "file_extension": ".py",
   "mimetype": "text/x-python",
   "name": "python",
   "nbconvert_exporter": "python",
   "pygments_lexer": "ipython3",
   "version": "3.9.12"
  },
  "orig_nbformat": 4,
  "vscode": {
   "interpreter": {
    "hash": "e023d72ede021be65f74d26126357c567aea8b04212670b8ea0e187d9d2ef347"
   }
  }
 },
 "nbformat": 4,
 "nbformat_minor": 2
}
